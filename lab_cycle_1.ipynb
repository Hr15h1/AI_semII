{
 "cells": [
  {
   "cell_type": "markdown",
   "metadata": {},
   "source": [
    "### Q1 Identify the most suitable patterns in the given set of data."
   ]
  },
  {
   "cell_type": "markdown",
   "metadata": {},
   "source": [
    "<table>\n",
    "    <tr>\n",
    "        <td>Sl No</td>\n",
    "        <td colspan=\"7\" align=\"center\">Sequence</td>\n",
    "    </tr>\n",
    "    <tr>\n",
    "        <td>1</td>\n",
    "        <td>2</td>\n",
    "        <td>4</td>\n",
    "        <td>6</td>\n",
    "        <td>8</td>\n",
    "        <td>10</td>\n",
    "        <td></td>\n",
    "    </tr>\n",
    "    <tr>\n",
    "        <td>2</td>\n",
    "        <td>3</td>\n",
    "        <td>6</td>\n",
    "        <td>12</td>\n",
    "        <td>24</td>\n",
    "        <td>48</td>\n",
    "        <td></td>\n",
    "    </tr>\n",
    "    <tr>\n",
    "        <td>1</td>\n",
    "        <td>1</td>\n",
    "        <td>1</td>\n",
    "        <td>2</td>\n",
    "        <td>3</td>\n",
    "        <td>5</td>\n",
    "        <td>8</td>\n",
    "    </tr>\n",
    "    <tr>\n",
    "        <td>4</td>\n",
    "        <td>10</td>\n",
    "        <td>20</td>\n",
    "        <td>30</td>\n",
    "        <td>55</td>\n",
    "        <td>70</td>\n",
    "        <td></td>\n",
    "    </tr>\n",
    "    <tr>\n",
    "        <td>5</td>\n",
    "        <td>100</td>\n",
    "        <td>50</td>\n",
    "        <td>25</td>\n",
    "        <td>12.5</td>\n",
    "        <td>6.25</td>\n",
    "        <td></td>\n",
    "    </tr>\n",
    "\n",
    "</table>"
   ]
  },
  {
   "cell_type": "code",
   "execution_count": null,
   "metadata": {},
   "outputs": [
    {
     "name": "stdout",
     "output_type": "stream",
     "text": [
      "(2, 4)\n",
      "(4, 6)\n",
      "(6, 8)\n",
      "(8, 10)\n",
      "(3, 6)\n",
      "(6, 12)\n",
      "(12, 24)\n",
      "(24, 48)\n",
      "(1, 1)\n",
      "(1, 2)\n",
      "(2, 3)\n",
      "(3, 5)\n",
      "(5, 8)\n",
      "(10, 20)\n",
      "(20, 30)\n",
      "(30, 55)\n",
      "(55, 70)\n",
      "(100, 50)\n",
      "(50, 25)\n",
      "(25, 12.5)\n",
      "(12.5, 6.25)\n"
     ]
    }
   ],
   "source": [
    "# list1 = [2, 4, 6, 8, 10]\n",
    "# list2 = [3, 6, 12, 24, 48]\n",
    "# list3 = [1, 1, 2, 3, 5, 8]\n",
    "# list4 = [10, 20, 30, 55, 70]\n",
    "# list5 = [100, 50, 25, 12.5, 6.25]\n",
    "series_list = [\n",
    "    [2, 4, 6, 8, 10],\n",
    "    [3, 6, 12, 24, 48],\n",
    "    [1, 1, 2, 3, 5, 8],\n",
    "    [10, 20, 30, 55, 70],\n",
    "    [100, 50, 25, 12.5, 6.25]\n",
    "]\n",
    "\n",
    "\n",
    "# for pair in zip(list1[:-1], list1[1:]):\n",
    "#             pairs.append(pair)\n",
    "\n",
    "for series in series_list:\n",
    "    pairs = []\n",
    "    diff = 0\n",
    "    ratio = 0\n",
    "    for pair in zip(series[:-1], series[1:]):\n",
    "        pairs.append(pair)\n",
    "\n",
    "    "
   ]
  },
  {
   "cell_type": "code",
   "execution_count": null,
   "metadata": {},
   "outputs": [],
   "source": [
    "    [10, 20, 30, 55, 70],\n",
    "    [100, 50, 25, 12.5, 6.25]\n",
    "]\n",
    "\n",
    "\n",
    "# for pair in zip(list1[:-1], list1[1:]):\n",
    "#             pairs.append(pair)\n",
    "\n",
    "for series in series_list:\n",
    "    pairs = []\n",
    "    diff = 0\n",
    "    ratio = 0\n",
    "    for pair in zip(series[:-1], series[1:]):\n",
    "        pairs.append(pair)\n",
    "\n",
    "    for pair in pairs:\n",
    "        print(pair)\n"
   ]
  }
 ],
 "metadata": {
  "kernelspec": {
   "display_name": "mvprlab",
   "language": "python",
   "name": "python3"
  },
  "language_info": {
   "codemirror_mode": {
    "name": "ipython",
    "version": 3
   },
   "file_extension": ".py",
   "mimetype": "text/x-python",
   "name": "python",
   "nbconvert_exporter": "python",
   "pygments_lexer": "ipython3",
   "version": "3.12.5"
  }
 },
 "nbformat": 4,
 "nbformat_minor": 2
}
