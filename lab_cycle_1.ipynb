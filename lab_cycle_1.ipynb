{
 "cells": [
  {
   "cell_type": "code",
   "execution_count": 11,
   "metadata": {},
   "outputs": [],
   "source": [
    "import csv"
   ]
  },
  {
   "cell_type": "markdown",
   "metadata": {},
   "source": [
    "### Q1 Identify the most suitable patterns in the given set of data."
   ]
  },
  {
   "cell_type": "markdown",
   "metadata": {},
   "source": [
    "<table>\n",
    "    <tr>\n",
    "        <td>Sl No</td>\n",
    "        <td colspan=\"7\" align=\"center\">Sequence</td>\n",
    "    </tr>\n",
    "    <tr>\n",
    "        <td>1</td>\n",
    "        <td>2</td>\n",
    "        <td>4</td>\n",
    "        <td>6</td>\n",
    "        <td>8</td>\n",
    "        <td>10</td>\n",
    "        <td></td>\n",
    "    </tr>\n",
    "    <tr>\n",
    "        <td>2</td>\n",
    "        <td>3</td>\n",
    "        <td>6</td>\n",
    "        <td>12</td>\n",
    "        <td>24</td>\n",
    "        <td>48</td>\n",
    "        <td></td>\n",
    "    </tr>\n",
    "    <tr>\n",
    "        <td>1</td>\n",
    "        <td>1</td>\n",
    "        <td>1</td>\n",
    "        <td>2</td>\n",
    "        <td>3</td>\n",
    "        <td>5</td>\n",
    "        <td>8</td>\n",
    "    </tr>\n",
    "    <tr>\n",
    "        <td>4</td>\n",
    "        <td>10</td>\n",
    "        <td>20</td>\n",
    "        <td>30</td>\n",
    "        <td>55</td>\n",
    "        <td>70</td>\n",
    "        <td></td>\n",
    "    </tr>\n",
    "    <tr>\n",
    "        <td>5</td>\n",
    "        <td>100</td>\n",
    "        <td>50</td>\n",
    "        <td>25</td>\n",
    "        <td>12.5</td>\n",
    "        <td>6.25</td>\n",
    "        <td></td>\n",
    "    </tr>\n",
    "\n",
    "</table>"
   ]
  },
  {
   "cell_type": "code",
   "execution_count": 6,
   "metadata": {},
   "outputs": [
    {
     "name": "stdout",
     "output_type": "stream",
     "text": [
      "Currently entered sequences: \n",
      "[2, 4, 6, 8, 10]\n",
      "\n",
      "[3, 6, 12, 24, 48]\n",
      "\n",
      "[1, 1, 2, 3, 5, 8]\n",
      "\n",
      "[10, 20, 30, 55, 70]\n",
      "\n",
      "[100, 50, 25, 12.5, 6.25]\n",
      "\n",
      "Checking if any of the series form a pattern\n",
      "The series [2, 4, 6, 8, 10] forms an arithmetic progression.\n",
      "The series [3, 6, 12, 24, 48] forms a geometric progression.\n",
      "The series [1, 1, 2, 3, 5, 8] is part of the fibonacci series.\n",
      "The series [10, 20, 30, 55, 70] does not have any pattern in them.\n",
      "The series [100, 50, 25, 12.5, 6.25] forms a geometric progression.\n"
     ]
    }
   ],
   "source": [
    "# list1 = [2, 4, 6, 8, 10]\n",
    "# list2 = [3, 6, 12, 24, 48]\n",
    "# list3 = [1, 1, 2, 3, 5, 8]\n",
    "# list4 = [10, 20, 30, 55, 70]\n",
    "# list5 = [100, 50, 25, 12.5, 6.25]\n",
    "series_list = [\n",
    "    [2, 4, 6, 8, 10],\n",
    "    [3, 6, 12, 24, 48],\n",
    "    [1, 1, 2, 3, 5, 8],\n",
    "    [10, 20, 30, 55, 70],\n",
    "    [100, 50, 25, 12.5, 6.25]\n",
    "]\n",
    "\n",
    "\n",
    "# for pair in zip(list1[:-1], list1[1:]):\n",
    "#             pairs.append(pair)\n",
    "\n",
    "def make_pairs(series):\n",
    "    pairs = []\n",
    "    for pair in zip(series[:-1], series[1:]):\n",
    "        pairs.append(pair)\n",
    "    return pairs\n",
    "\n",
    "def is_arithmetic(series):\n",
    "    diff = set()\n",
    "    pairs = make_pairs(series)\n",
    "    for pair in pairs:\n",
    "        diff.add(pair[1] - pair[0])\n",
    "\n",
    "    if len(diff) == 1:\n",
    "        return True\n",
    "    else:    \n",
    "        return False\n",
    "    \n",
    "def is_geometric(series):\n",
    "    ratio = set()\n",
    "    pairs = make_pairs(series)\n",
    "    for pair in pairs:\n",
    "        ratio.add(pair[1] / pair[0])\n",
    "\n",
    "    if len(ratio) == 1:\n",
    "        return True\n",
    "    else:\n",
    "        return False\n",
    "    \n",
    "def is_fibonacci(series):\n",
    "    index = 0\n",
    "    while index < len(series)-2:\n",
    "        if (series[index] + series[index+1] != series[index+2]):\n",
    "            return False\n",
    "        index += 1\n",
    "    return True\n",
    "\n",
    "print(f\"Currently entered sequences: \")\n",
    "for series in series_list:\n",
    "    print(series, end = \"\\n\\n\")\n",
    "\n",
    "print(\"Checking if any of the series form a pattern\")\n",
    "for series in series_list:\n",
    "    if is_arithmetic(series):\n",
    "        print(f\"The series {series} forms an arithmetic progression.\")\n",
    "    elif is_geometric(series):\n",
    "        print(f\"The series {series} forms a geometric progression.\")\n",
    "    elif is_fibonacci(series):\n",
    "        print(f\"The series {series} is part of the fibonacci series.\")\n",
    "    else:\n",
    "        print(f\"The series {series} does not have any pattern in them.\")\n",
    "\n"
   ]
  },
  {
   "cell_type": "markdown",
   "metadata": {},
   "source": [
    "2. Create a textdata.csv file containing a minimum 10 sentences with a minimum length of 15 words and find the following:\n",
    "    * Most common words\n",
    "    * Most common bigrams and trigrams\n",
    "    * Palindrome word\n",
    "    * Anagram pairs and rhyming words\n",
    "\n",
    "Repeat the experiments with any two articles of two authors and find any patterns exists in it."
   ]
  },
  {
   "cell_type": "code",
   "execution_count": null,
   "metadata": {},
   "outputs": [
    {
     "name": "stdout",
     "output_type": "stream",
     "text": [
      "[['As', 'the', 'sun', 'began', 'to', 'set', 'behind', 'the', 'tall', 'trees,', 'casting', 'a', 'warm', 'golden', 'hue', 'across', 'the', 'sky,', 'the', 'children', 'ran', 'joyfully', 'through', 'the', 'meadow,', 'their', 'laughter', 'echoing', 'across', 'the', 'fields,', 'signaling', 'the', 'end', 'of', 'another', 'perfect', 'summer', 'day.'], ['After', 'months', 'of', 'careful', 'planning,', 'research,', 'and', 'collaboration', 'with', 'experts', 'from', 'various', 'fields,', 'the', 'team', 'finally', 'unveiled', 'their', 'groundbreaking', 'invention,', 'which', 'they', 'believed', 'would', 'revolutionize', 'the', 'industry', 'and', 'change', 'the', 'way', 'people', 'interact', 'with', 'technology', 'forever.'], ['She', 'stood', 'at', 'the', 'edge', 'of', 'the', 'vast,', 'sprawling', 'desert,', 'feeling', 'the', 'hot', 'wind', 'whip', 'around', 'her', 'face,', 'as', 'she', 'considered', 'the', 'long', 'journey', 'ahead,', 'knowing', 'that', 'the', 'next', 'few', 'days', 'would', 'test', 'her', 'endurance', 'and', 'resolve', 'in', 'ways', 'she', 'had', 'never', 'imagined.'], ['The', 'old', 'mansion,', 'with', 'its', 'creaky', 'floors,', 'faded', 'wallpaper,', 'and', 'overgrown', 'garden,', 'had', 'been', 'abandoned', 'for', 'years,', 'yet', 'there', 'was', 'an', 'undeniable', 'air', 'of', 'mystery', 'that', 'hung', 'around', 'it,', 'as', 'if', 'the', 'walls', 'themselves', 'held', 'secrets', 'waiting', 'to', 'be', 'uncovered.'], ['As', 'the', 'storm', 'clouds', 'gathered', 'overhead', 'and', 'the', 'first', 'drops', 'of', 'rain', 'began', 'to', 'fall,', 'the', 'hikers', 'huddled', 'together', 'under', 'the', 'thick', 'canopy', 'of', 'trees,', 'waiting', 'for', 'the', 'worst', 'to', 'pass,', 'hoping', 'that', 'their', 'supplies', 'would', 'last', 'long', 'enough', 'for', 'them', 'to', 'reach', 'safety.'], ['The', 'concert', 'hall', 'was', 'filled', 'with', 'the', 'soft', 'murmur', 'of', 'excited', 'chatter,', 'the', 'rustle', 'of', 'programs', 'being', 'opened,', 'and', 'the', 'occasional', 'clink', 'of', 'glasses', 'as', 'the', 'audience', 'waited', 'in', 'anticipation', 'for', 'the', 'orchestra', 'to', 'take', 'the', 'stage', 'and', 'begin', 'the', 'much-anticipated', 'performance.'], ['While', 'strolling', 'through', 'the', 'bustling', 'market', 'on', 'a', 'crisp', 'autumn', 'morning,', 'the', 'smell', 'of', 'fresh', 'bread,', 'roasted', 'chestnuts,', 'and', 'spices', 'filled', 'the', 'air,', 'tempting', 'her', 'to', 'sample', 'a', 'little', 'bit', 'of', 'everything,', 'as', 'she', 'marveled', 'at', 'the', 'vibrant', 'colors', 'of', 'the', 'fruits', 'and', 'vegetables', 'on', 'display.'], ['The', 'young', 'artist', 'sat', 'in', 'front', 'of', 'the', 'blank', 'canvas,', 'brushes', 'and', 'paints', 'scattered', 'across', 'the', 'table,', 'unsure', 'of', 'where', 'to', 'begin,', 'but', 'knowing', 'that', 'with', 'each', 'stroke,', 'a', 'new', 'world', 'would', 'emerge,', 'one', 'that', 'only', 'she', 'could', 'bring', 'to', 'life', 'with', 'her', 'imagination', 'and', 'skill.'], ['The', 'city', 'skyline,', 'once', 'a', 'distant', 'dream,', 'now', 'stood', 'tall', 'and', 'proud', 'in', 'front', 'of', 'them,', 'a', 'testament', 'to', 'years', 'of', 'hard', 'work', 'and', 'determination,', 'as', 'they', 'gazed', 'at', 'the', 'glass', 'towers,', 'reflecting', 'the', 'rising', 'sun,', 'and', 'imagined', 'what', 'the', 'future', 'would', 'hold', 'for', 'their', 'thriving', 'metropolis.'], ['With', 'the', 'end', 'of', 'the', 'school', 'year', 'rapidly', 'approaching,', 'students', 'hurried', 'to', 'finish', 'final', 'assignments', 'and', 'prepare', 'for', 'exams,', 'while', 'teachers', 'worked', 'tirelessly', 'to', 'grade', 'papers,', 'answer', 'questions,', 'and', 'ensure', 'that', 'their', 'pupils', 'were', 'ready', 'for', 'the', 'challenges', 'that', 'lay', 'ahead', 'in', 'the', 'next', 'chapter', 'of', 'their', 'lives.'], ['The', 'quiet', 'neighborhood,', 'usually', 'peaceful', 'and', 'serene,', 'was', 'suddenly', 'filled', 'with', 'the', 'sounds', 'of', 'sirens,', 'as', 'emergency', 'vehicles', 'rushed', 'toward', 'the', 'scene', 'of', 'an', 'accident,', 'while', 'worried', 'neighbors', 'watched', 'from', 'their', 'windows,', 'unsure', 'of', 'what', 'had', 'happened', 'or', 'how', 'they', 'could', 'help.'], ['As', 'the', 'final', 'seconds', 'of', 'the', 'game', 'ticked', 'away', 'and', 'the', 'crowd', 'held', 'its', 'breath', 'in', 'anticipation,', 'the', 'underdog', 'team', 'made', 'an', 'incredible', 'play,', 'scoring', 'a', 'last-minute', 'touchdown', 'that', 'not', 'only', 'secured', 'their', 'victory', 'but', 'also', 'stunned', 'everyone', 'who', 'had', 'doubted', 'them', 'throughout', 'the', 'season.'], ['Sitting', 'by', 'the', 'warm', 'fire', 'on', 'a', 'chilly', 'evening,', 'the', 'family', 'gathered', 'together', 'to', 'share', 'stories', 'of', 'their', 'childhood,', 'laughter', 'filling', 'the', 'room', 'as', 'they', 'reflected', 'on', 'the', 'memories', 'they', 'had', 'created', 'over', 'the', 'years,', 'grateful', 'for', 'the', 'time', 'they', 'spent', 'together', 'despite', 'the', 'challenges', 'life', 'had', 'thrown', 'their', 'way.'], ['The', 'sprawling', 'garden,', 'meticulously', 'tended', 'to', 'with', 'love', 'and', 'care,', 'was', 'filled', 'with', 'vibrant', 'flowers,', 'neatly', 'trimmed', 'hedges,', 'and', 'a', 'variety', 'of', 'plants', 'that', 'bloomed', 'in', 'an', 'array', 'of', 'colors,', 'attracting', 'bees,', 'butterflies,', 'and', 'birds', 'who', 'made', 'the', 'garden', 'their', 'home', 'throughout', 'the', 'changing', 'seasons.'], ['After', 'years', 'of', 'searching', 'for', 'the', 'perfect', 'place', 'to', 'settle', 'down,', 'they', 'found', 'the', 'quaint', 'little', 'town', 'nestled', 'in', 'the', 'mountains,', 'where', 'the', 'air', 'was', 'fresh,', 'the', 'people', 'were', 'friendly,', 'and', 'the', 'sense', 'of', 'community', 'was', 'strong,', 'offering', 'them', 'the', 'peace', 'and', 'stability', 'they', 'had', 'longed', 'for.,']]\n"
     ]
    }
   ],
   "source": [
    "words = []\n",
    "with open(\"textdata.csv\",'r') as f:\n",
    "    csv_contents = csv.reader(f)\n",
    "    for lines in csv_contents:\n",
    "        for line in lines:\n",
    "            "
   ]
  },
  {
   "cell_type": "code",
   "execution_count": null,
   "metadata": {},
   "outputs": [],
   "source": []
  }
 ],
 "metadata": {
  "kernelspec": {
   "display_name": "mvprlab",
   "language": "python",
   "name": "python3"
  },
  "language_info": {
   "codemirror_mode": {
    "name": "ipython",
    "version": 3
   },
   "file_extension": ".py",
   "mimetype": "text/x-python",
   "name": "python",
   "nbconvert_exporter": "python",
   "pygments_lexer": "ipython3",
   "version": "3.12.5"
  }
 },
 "nbformat": 4,
 "nbformat_minor": 2
}
